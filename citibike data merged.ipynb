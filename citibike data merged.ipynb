{
 "cells": [
  {
   "cell_type": "code",
   "execution_count": 4,
   "metadata": {},
   "outputs": [],
   "source": [
    "import pandas as pd\n",
    "import numpy as np\n",
    "from datetime import datetime"
   ]
  },
  {
   "cell_type": "code",
   "execution_count": 17,
   "metadata": {},
   "outputs": [],
   "source": [
    "#combine csv files\n",
    "data= [\"JC-202301-citibike-tripdata.csv\",\"JC-202305-citibike-tripdata.csv\",\"JC-202309-citibike-tripdata.csv\"]\n",
    "df_list =[]\n",
    "#loop through each file in the list\n",
    "for file in data:\n",
    "    citibike_df = pd.read_csv(file)\n",
    "    #append dataframe to the list\n",
    "    df_list.append(citibike_df)"
   ]
  },
  {
   "cell_type": "code",
   "execution_count": 20,
   "metadata": {},
   "outputs": [
    {
     "data": {
      "text/html": [
       "<div>\n",
       "<style scoped>\n",
       "    .dataframe tbody tr th:only-of-type {\n",
       "        vertical-align: middle;\n",
       "    }\n",
       "\n",
       "    .dataframe tbody tr th {\n",
       "        vertical-align: top;\n",
       "    }\n",
       "\n",
       "    .dataframe thead th {\n",
       "        text-align: right;\n",
       "    }\n",
       "</style>\n",
       "<table border=\"1\" class=\"dataframe\">\n",
       "  <thead>\n",
       "    <tr style=\"text-align: right;\">\n",
       "      <th></th>\n",
       "      <th>ride_id</th>\n",
       "      <th>rideable_type</th>\n",
       "      <th>started_at</th>\n",
       "      <th>ended_at</th>\n",
       "      <th>start_station_name</th>\n",
       "      <th>start_station_id</th>\n",
       "      <th>end_station_name</th>\n",
       "      <th>end_station_id</th>\n",
       "      <th>start_lat</th>\n",
       "      <th>start_lng</th>\n",
       "      <th>end_lat</th>\n",
       "      <th>end_lng</th>\n",
       "      <th>member_casual</th>\n",
       "    </tr>\n",
       "  </thead>\n",
       "  <tbody>\n",
       "    <tr>\n",
       "      <th>0</th>\n",
       "      <td>0905B18B365C9D20</td>\n",
       "      <td>classic_bike</td>\n",
       "      <td>2023-01-28 09:18:10</td>\n",
       "      <td>2023-01-28 09:28:52</td>\n",
       "      <td>Hoboken Terminal - Hudson St &amp; Hudson Pl</td>\n",
       "      <td>HB101</td>\n",
       "      <td>Hamilton Park</td>\n",
       "      <td>JC009</td>\n",
       "      <td>40.735938</td>\n",
       "      <td>-74.030305</td>\n",
       "      <td>40.727596</td>\n",
       "      <td>-74.044247</td>\n",
       "      <td>member</td>\n",
       "    </tr>\n",
       "    <tr>\n",
       "      <th>1</th>\n",
       "      <td>B4F0562B05CB5404</td>\n",
       "      <td>electric_bike</td>\n",
       "      <td>2023-01-23 20:10:12</td>\n",
       "      <td>2023-01-23 20:18:27</td>\n",
       "      <td>Hoboken Terminal - Hudson St &amp; Hudson Pl</td>\n",
       "      <td>HB101</td>\n",
       "      <td>Southwest Park - Jackson St &amp; Observer Hwy</td>\n",
       "      <td>HB401</td>\n",
       "      <td>40.735938</td>\n",
       "      <td>-74.030305</td>\n",
       "      <td>40.737551</td>\n",
       "      <td>-74.041664</td>\n",
       "      <td>member</td>\n",
       "    </tr>\n",
       "  </tbody>\n",
       "</table>\n",
       "</div>"
      ],
      "text/plain": [
       "            ride_id  rideable_type           started_at             ended_at  \\\n",
       "0  0905B18B365C9D20   classic_bike  2023-01-28 09:18:10  2023-01-28 09:28:52   \n",
       "1  B4F0562B05CB5404  electric_bike  2023-01-23 20:10:12  2023-01-23 20:18:27   \n",
       "\n",
       "                         start_station_name start_station_id  \\\n",
       "0  Hoboken Terminal - Hudson St & Hudson Pl            HB101   \n",
       "1  Hoboken Terminal - Hudson St & Hudson Pl            HB101   \n",
       "\n",
       "                             end_station_name end_station_id  start_lat  \\\n",
       "0                               Hamilton Park          JC009  40.735938   \n",
       "1  Southwest Park - Jackson St & Observer Hwy          HB401  40.735938   \n",
       "\n",
       "   start_lng    end_lat    end_lng member_casual  \n",
       "0 -74.030305  40.727596 -74.044247        member  \n",
       "1 -74.030305  40.737551 -74.041664        member  "
      ]
     },
     "execution_count": 20,
     "metadata": {},
     "output_type": "execute_result"
    }
   ],
   "source": [
    "#Concatenate all dataframes in the list into one dataframe\n",
    "citybike_df = pd.concat(df_list)\n",
    "citybike_df.head(2)\n",
    "\n",
    "\n",
    "\n"
   ]
  },
  {
   "cell_type": "code",
   "execution_count": 23,
   "metadata": {},
   "outputs": [],
   "source": [
    "citybike_df.to_csv('citibike.csv', index=False)"
   ]
  }
 ],
 "metadata": {
  "kernelspec": {
   "display_name": "Python 3",
   "language": "python",
   "name": "python3"
  },
  "language_info": {
   "codemirror_mode": {
    "name": "ipython",
    "version": 3
   },
   "file_extension": ".py",
   "mimetype": "text/x-python",
   "name": "python",
   "nbconvert_exporter": "python",
   "pygments_lexer": "ipython3",
   "version": "3.11.6"
  }
 },
 "nbformat": 4,
 "nbformat_minor": 2
}
